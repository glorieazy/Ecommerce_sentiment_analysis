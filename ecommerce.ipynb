{
 "cells": [
  {
   "cell_type": "markdown",
   "id": "86606732",
   "metadata": {},
   "source": [
    "## <center>Ecommerce Sentiment Analysis and Review Processing Using Python and SQL</center>\n"
   ]
  },
  {
   "cell_type": "markdown",
   "id": "3c8aec7c-722b-4ba2-94c1-6e32f7c6509f",
   "metadata": {},
   "source": [
    "### INTRODUCTION: \n",
    "#### The project aims to conduct a comprehensive analysis of an e-commerce platform using the provided dataset. The dataset contains information about the products, customer reviews, purchase history, seller details, categories, and other relevant details. The project seeks to uncover valuable insights about customer behavior, popular products, seller performance, customer satisfaction, and overall platform performance through various data analysis techniques."
   ]
  },
  {
   "cell_type": "markdown",
   "id": "3de12542-eccf-47ef-8d9e-b305e1ebbef6",
   "metadata": {},
   "source": [
    "### DATA WRANGLING"
   ]
  },
  {
   "cell_type": "code",
   "execution_count": 1,
   "id": "f252328a",
   "metadata": {},
   "outputs": [],
   "source": [
    "#import the necessary libraries\n",
    "\n",
    "import sqlite3\n",
    "import numpy as np\n",
    "import pandas as pd"
   ]
  },
  {
   "cell_type": "code",
   "execution_count": 3,
   "id": "8171dde2",
   "metadata": {},
   "outputs": [],
   "source": [
    "#import a self define module\n",
    "\n",
    "import settings #the codes in this modules will be posted at the end of this file"
   ]
  },
  {
   "cell_type": "code",
   "execution_count": 4,
   "id": "617a3ef6",
   "metadata": {},
   "outputs": [],
   "source": [
    "#import the toolkits for the sentiment analysis\n",
    "\n",
    "import nltk\n",
    "nltk.download()\n",
    "from nltk.sentiment import SentimentIntensityAnalyzer"
   ]
  },
  {
   "cell_type": "code",
   "execution_count": 5,
   "id": "0bc964b3",
   "metadata": {},
   "outputs": [],
   "source": [
    "#load the uncleaned dataset\n",
    "df = pd.read_csv('shopping.csv')"
   ]
  },
  {
   "cell_type": "code",
   "execution_count": 6,
   "id": "e15e1211",
   "metadata": {},
   "outputs": [
    {
     "data": {
      "text/html": [
       "<div>\n",
       "<style scoped>\n",
       "    .dataframe tbody tr th:only-of-type {\n",
       "        vertical-align: middle;\n",
       "    }\n",
       "\n",
       "    .dataframe tbody tr th {\n",
       "        vertical-align: top;\n",
       "    }\n",
       "\n",
       "    .dataframe thead th {\n",
       "        text-align: right;\n",
       "    }\n",
       "</style>\n",
       "<table border=\"1\" class=\"dataframe\">\n",
       "  <thead>\n",
       "    <tr style=\"text-align: right;\">\n",
       "      <th></th>\n",
       "      <th>name</th>\n",
       "      <th>brand</th>\n",
       "      <th>categories</th>\n",
       "      <th>primaryCategories</th>\n",
       "      <th>reviews.date</th>\n",
       "      <th>reviews.text</th>\n",
       "      <th>reviews.title</th>\n",
       "    </tr>\n",
       "  </thead>\n",
       "  <tbody>\n",
       "    <tr>\n",
       "      <th>0</th>\n",
       "      <td>All-New Fire HD 8 Tablet, 8\" HD Display, Wi-Fi...</td>\n",
       "      <td>Amazon</td>\n",
       "      <td>Electronics,iPad &amp; Tablets,All Tablets,Fire Ta...</td>\n",
       "      <td>Electronics</td>\n",
       "      <td>2016-12-26T00:00:00.000Z</td>\n",
       "      <td>Purchased on Black FridayPros - Great Price (e...</td>\n",
       "      <td>Powerful tablet</td>\n",
       "    </tr>\n",
       "    <tr>\n",
       "      <th>1</th>\n",
       "      <td>Amazon - Echo Plus w/ Built-In Hub - Silver</td>\n",
       "      <td>Amazon</td>\n",
       "      <td>Amazon Echo,Smart Home,Networking,Home &amp; Tools...</td>\n",
       "      <td>Electronics,Hardware</td>\n",
       "      <td>2018-01-17T00:00:00.000Z</td>\n",
       "      <td>I purchased two Amazon in Echo Plus and two do...</td>\n",
       "      <td>Amazon Echo Plus AWESOME</td>\n",
       "    </tr>\n",
       "  </tbody>\n",
       "</table>\n",
       "</div>"
      ],
      "text/plain": [
       "                                                name   brand  \\\n",
       "0  All-New Fire HD 8 Tablet, 8\" HD Display, Wi-Fi...  Amazon   \n",
       "1        Amazon - Echo Plus w/ Built-In Hub - Silver  Amazon   \n",
       "\n",
       "                                          categories     primaryCategories  \\\n",
       "0  Electronics,iPad & Tablets,All Tablets,Fire Ta...           Electronics   \n",
       "1  Amazon Echo,Smart Home,Networking,Home & Tools...  Electronics,Hardware   \n",
       "\n",
       "               reviews.date  \\\n",
       "0  2016-12-26T00:00:00.000Z   \n",
       "1  2018-01-17T00:00:00.000Z   \n",
       "\n",
       "                                        reviews.text             reviews.title  \n",
       "0  Purchased on Black FridayPros - Great Price (e...           Powerful tablet  \n",
       "1  I purchased two Amazon in Echo Plus and two do...  Amazon Echo Plus AWESOME  "
      ]
     },
     "execution_count": 6,
     "metadata": {},
     "output_type": "execute_result"
    }
   ],
   "source": [
    "#print head of the dataset\n",
    "df.head(2)"
   ]
  },
  {
   "cell_type": "code",
   "execution_count": 7,
   "id": "59386616",
   "metadata": {},
   "outputs": [
    {
     "data": {
      "text/plain": [
       "28"
      ]
     },
     "execution_count": 7,
     "metadata": {},
     "output_type": "execute_result"
    }
   ],
   "source": [
    "#check for any duplicates and sum it to know the amount of duplicates present in the dataset\n",
    "df.duplicated().sum()"
   ]
  },
  {
   "cell_type": "code",
   "execution_count": 8,
   "id": "eba74b25",
   "metadata": {},
   "outputs": [],
   "source": [
    "#drop the duplicates\n",
    "df.drop_duplicates(inplace=True)"
   ]
  },
  {
   "cell_type": "code",
   "execution_count": 9,
   "id": "7be84986",
   "metadata": {},
   "outputs": [
    {
     "data": {
      "text/plain": [
       "name                  0\n",
       "brand                 0\n",
       "categories            0\n",
       "primaryCategories     0\n",
       "reviews.date          0\n",
       "reviews.text          0\n",
       "reviews.title        10\n",
       "dtype: int64"
      ]
     },
     "execution_count": 9,
     "metadata": {},
     "output_type": "execute_result"
    }
   ],
   "source": [
    "#check for thr null values in each column\n",
    "df.isnull().sum()"
   ]
  },
  {
   "cell_type": "code",
   "execution_count": 10,
   "id": "b770b4c2",
   "metadata": {},
   "outputs": [],
   "source": [
    "#drop the null values\n",
    "df.dropna(inplace=True)"
   ]
  },
  {
   "cell_type": "code",
   "execution_count": 11,
   "id": "77891ece",
   "metadata": {},
   "outputs": [],
   "source": [
    "#rename the messy columns\n",
    "df = df.rename( columns={'reviews.text': 'reviews_text',\n",
    "                         'reviews.title': 'reviews_title',\n",
    "                         'reviews.date': 'reviews_date'})"
   ]
  },
  {
   "cell_type": "code",
   "execution_count": 12,
   "id": "e52fb6c1",
   "metadata": {},
   "outputs": [
    {
     "name": "stdout",
     "output_type": "stream",
     "text": [
      "<class 'pandas.core.frame.DataFrame'>\n",
      "Index: 3962 entries, 0 to 3999\n",
      "Data columns (total 7 columns):\n",
      " #   Column             Non-Null Count  Dtype \n",
      "---  ------             --------------  ----- \n",
      " 0   name               3962 non-null   object\n",
      " 1   brand              3962 non-null   object\n",
      " 2   categories         3962 non-null   object\n",
      " 3   primaryCategories  3962 non-null   object\n",
      " 4   reviews_date       3962 non-null   object\n",
      " 5   reviews_text       3962 non-null   object\n",
      " 6   reviews_title      3962 non-null   object\n",
      "dtypes: object(7)\n",
      "memory usage: 247.6+ KB\n"
     ]
    }
   ],
   "source": [
    "#check the info about the dataset\n",
    "df.info()"
   ]
  },
  {
   "cell_type": "code",
   "execution_count": 13,
   "id": "df17fa9b",
   "metadata": {},
   "outputs": [
    {
     "data": {
      "text/html": [
       "<div>\n",
       "<style scoped>\n",
       "    .dataframe tbody tr th:only-of-type {\n",
       "        vertical-align: middle;\n",
       "    }\n",
       "\n",
       "    .dataframe tbody tr th {\n",
       "        vertical-align: top;\n",
       "    }\n",
       "\n",
       "    .dataframe thead th {\n",
       "        text-align: right;\n",
       "    }\n",
       "</style>\n",
       "<table border=\"1\" class=\"dataframe\">\n",
       "  <thead>\n",
       "    <tr style=\"text-align: right;\">\n",
       "      <th></th>\n",
       "      <th>name</th>\n",
       "      <th>brand</th>\n",
       "      <th>categories</th>\n",
       "      <th>primaryCategories</th>\n",
       "      <th>reviews_date</th>\n",
       "      <th>reviews_text</th>\n",
       "      <th>reviews_title</th>\n",
       "    </tr>\n",
       "  </thead>\n",
       "  <tbody>\n",
       "    <tr>\n",
       "      <th>0</th>\n",
       "      <td>All-New Fire HD 8 Tablet, 8\" HD Display, Wi-Fi...</td>\n",
       "      <td>Amazon</td>\n",
       "      <td>Electronics,iPad &amp; Tablets,All Tablets,Fire Ta...</td>\n",
       "      <td>Electronics</td>\n",
       "      <td>2016-12-26T00:00:00.000Z</td>\n",
       "      <td>Purchased on Black FridayPros - Great Price (e...</td>\n",
       "      <td>Powerful tablet</td>\n",
       "    </tr>\n",
       "    <tr>\n",
       "      <th>1</th>\n",
       "      <td>Amazon - Echo Plus w/ Built-In Hub - Silver</td>\n",
       "      <td>Amazon</td>\n",
       "      <td>Amazon Echo,Smart Home,Networking,Home &amp; Tools...</td>\n",
       "      <td>Electronics,Hardware</td>\n",
       "      <td>2018-01-17T00:00:00.000Z</td>\n",
       "      <td>I purchased two Amazon in Echo Plus and two do...</td>\n",
       "      <td>Amazon Echo Plus AWESOME</td>\n",
       "    </tr>\n",
       "  </tbody>\n",
       "</table>\n",
       "</div>"
      ],
      "text/plain": [
       "                                                name   brand  \\\n",
       "0  All-New Fire HD 8 Tablet, 8\" HD Display, Wi-Fi...  Amazon   \n",
       "1        Amazon - Echo Plus w/ Built-In Hub - Silver  Amazon   \n",
       "\n",
       "                                          categories     primaryCategories  \\\n",
       "0  Electronics,iPad & Tablets,All Tablets,Fire Ta...           Electronics   \n",
       "1  Amazon Echo,Smart Home,Networking,Home & Tools...  Electronics,Hardware   \n",
       "\n",
       "               reviews_date  \\\n",
       "0  2016-12-26T00:00:00.000Z   \n",
       "1  2018-01-17T00:00:00.000Z   \n",
       "\n",
       "                                        reviews_text             reviews_title  \n",
       "0  Purchased on Black FridayPros - Great Price (e...           Powerful tablet  \n",
       "1  I purchased two Amazon in Echo Plus and two do...  Amazon Echo Plus AWESOME  "
      ]
     },
     "execution_count": 13,
     "metadata": {},
     "output_type": "execute_result"
    }
   ],
   "source": [
    "#print again the head of the dataset\n",
    "df.head(2)"
   ]
  },
  {
   "cell_type": "code",
   "execution_count": 14,
   "id": "17ed6095",
   "metadata": {},
   "outputs": [],
   "source": [
    "#make a copy of the cleaned dataset \n",
    "df1 = df.copy()"
   ]
  },
  {
   "cell_type": "code",
   "execution_count": 15,
   "id": "c649fae6",
   "metadata": {},
   "outputs": [],
   "source": [
    "#create an object called sentiments\n",
    "sentiments = SentimentIntensityAnalyzer()"
   ]
  },
  {
   "cell_type": "code",
   "execution_count": 16,
   "id": "ddcef09c",
   "metadata": {},
   "outputs": [],
   "source": [
    "# Create a compound column and sentiment column\n",
    "df1['sentiment'] = df1['reviews_text'].apply(lambda x: sentiments.polarity_scores(x))\n",
    "# Calculate sentiment scores for each review and assign 'positive' or 'negative' based on the scores\n",
    "df1['compound'] = df1['sentiment'].apply(lambda d: d['neg'] - d['pos'])\n",
    "    \n",
    "df1['sentiment'] = df1['compound'].apply(lambda score: 'positive' if score < 0 else 'negative' )"
   ]
  },
  {
   "cell_type": "code",
   "execution_count": 17,
   "id": "598bfdea",
   "metadata": {},
   "outputs": [
    {
     "data": {
      "text/html": [
       "<div>\n",
       "<style scoped>\n",
       "    .dataframe tbody tr th:only-of-type {\n",
       "        vertical-align: middle;\n",
       "    }\n",
       "\n",
       "    .dataframe tbody tr th {\n",
       "        vertical-align: top;\n",
       "    }\n",
       "\n",
       "    .dataframe thead th {\n",
       "        text-align: right;\n",
       "    }\n",
       "</style>\n",
       "<table border=\"1\" class=\"dataframe\">\n",
       "  <thead>\n",
       "    <tr style=\"text-align: right;\">\n",
       "      <th></th>\n",
       "      <th>name</th>\n",
       "      <th>brand</th>\n",
       "      <th>categories</th>\n",
       "      <th>primaryCategories</th>\n",
       "      <th>reviews_date</th>\n",
       "      <th>reviews_text</th>\n",
       "      <th>reviews_title</th>\n",
       "      <th>sentiment</th>\n",
       "      <th>compound</th>\n",
       "    </tr>\n",
       "  </thead>\n",
       "  <tbody>\n",
       "    <tr>\n",
       "      <th>0</th>\n",
       "      <td>All-New Fire HD 8 Tablet, 8\" HD Display, Wi-Fi...</td>\n",
       "      <td>Amazon</td>\n",
       "      <td>Electronics,iPad &amp; Tablets,All Tablets,Fire Ta...</td>\n",
       "      <td>Electronics</td>\n",
       "      <td>2016-12-26T00:00:00.000Z</td>\n",
       "      <td>Purchased on Black FridayPros - Great Price (e...</td>\n",
       "      <td>Powerful tablet</td>\n",
       "      <td>positive</td>\n",
       "      <td>-0.280</td>\n",
       "    </tr>\n",
       "    <tr>\n",
       "      <th>1</th>\n",
       "      <td>Amazon - Echo Plus w/ Built-In Hub - Silver</td>\n",
       "      <td>Amazon</td>\n",
       "      <td>Amazon Echo,Smart Home,Networking,Home &amp; Tools...</td>\n",
       "      <td>Electronics,Hardware</td>\n",
       "      <td>2018-01-17T00:00:00.000Z</td>\n",
       "      <td>I purchased two Amazon in Echo Plus and two do...</td>\n",
       "      <td>Amazon Echo Plus AWESOME</td>\n",
       "      <td>positive</td>\n",
       "      <td>-0.181</td>\n",
       "    </tr>\n",
       "  </tbody>\n",
       "</table>\n",
       "</div>"
      ],
      "text/plain": [
       "                                                name   brand  \\\n",
       "0  All-New Fire HD 8 Tablet, 8\" HD Display, Wi-Fi...  Amazon   \n",
       "1        Amazon - Echo Plus w/ Built-In Hub - Silver  Amazon   \n",
       "\n",
       "                                          categories     primaryCategories  \\\n",
       "0  Electronics,iPad & Tablets,All Tablets,Fire Ta...           Electronics   \n",
       "1  Amazon Echo,Smart Home,Networking,Home & Tools...  Electronics,Hardware   \n",
       "\n",
       "               reviews_date  \\\n",
       "0  2016-12-26T00:00:00.000Z   \n",
       "1  2018-01-17T00:00:00.000Z   \n",
       "\n",
       "                                        reviews_text  \\\n",
       "0  Purchased on Black FridayPros - Great Price (e...   \n",
       "1  I purchased two Amazon in Echo Plus and two do...   \n",
       "\n",
       "              reviews_title sentiment  compound  \n",
       "0           Powerful tablet  positive    -0.280  \n",
       "1  Amazon Echo Plus AWESOME  positive    -0.181  "
      ]
     },
     "execution_count": 17,
     "metadata": {},
     "output_type": "execute_result"
    }
   ],
   "source": [
    "#print head of the dataset\n",
    "df1.head(2)"
   ]
  },
  {
   "cell_type": "code",
   "execution_count": null,
   "id": "f27b3a06-37f8-471b-8134-6bba326b1deb",
   "metadata": {},
   "outputs": [],
   "source": [
    "# Tokenize the reviews_text column using nltk's word_tokenize function\n",
    "df1['reviews_text'] = df1['reviews_text'].apply(nltk.word_tokenize)\n",
    "# Normalize the tokenized words using the normalize function from settings\n",
    "df1['reviews_text'] = df1['reviews_text'].apply(settings.normalize)"
   ]
  },
  {
   "cell_type": "code",
   "execution_count": 20,
   "id": "1376f88d",
   "metadata": {},
   "outputs": [
    {
     "data": {
      "text/html": [
       "<div>\n",
       "<style scoped>\n",
       "    .dataframe tbody tr th:only-of-type {\n",
       "        vertical-align: middle;\n",
       "    }\n",
       "\n",
       "    .dataframe tbody tr th {\n",
       "        vertical-align: top;\n",
       "    }\n",
       "\n",
       "    .dataframe thead th {\n",
       "        text-align: right;\n",
       "    }\n",
       "</style>\n",
       "<table border=\"1\" class=\"dataframe\">\n",
       "  <thead>\n",
       "    <tr style=\"text-align: right;\">\n",
       "      <th></th>\n",
       "      <th>name</th>\n",
       "      <th>brand</th>\n",
       "      <th>categories</th>\n",
       "      <th>primaryCategories</th>\n",
       "      <th>reviews_date</th>\n",
       "      <th>reviews_text</th>\n",
       "      <th>reviews_title</th>\n",
       "      <th>sentiment</th>\n",
       "      <th>compound</th>\n",
       "    </tr>\n",
       "  </thead>\n",
       "  <tbody>\n",
       "    <tr>\n",
       "      <th>0</th>\n",
       "      <td>All-New Fire HD 8 Tablet, 8\" HD Display, Wi-Fi...</td>\n",
       "      <td>Amazon</td>\n",
       "      <td>Electronics,iPad &amp; Tablets,All Tablets,Fire Ta...</td>\n",
       "      <td>Electronics</td>\n",
       "      <td>2016-12-26T00:00:00.000Z</td>\n",
       "      <td>[Purchased, on, Black, FridayPros, -, Great, P...</td>\n",
       "      <td>Powerful tablet</td>\n",
       "      <td>positive</td>\n",
       "      <td>-0.280</td>\n",
       "    </tr>\n",
       "    <tr>\n",
       "      <th>1</th>\n",
       "      <td>Amazon - Echo Plus w/ Built-In Hub - Silver</td>\n",
       "      <td>Amazon</td>\n",
       "      <td>Amazon Echo,Smart Home,Networking,Home &amp; Tools...</td>\n",
       "      <td>Electronics,Hardware</td>\n",
       "      <td>2018-01-17T00:00:00.000Z</td>\n",
       "      <td>[I, purchased, two, Amazon, in, Echo, Plus, an...</td>\n",
       "      <td>Amazon Echo Plus AWESOME</td>\n",
       "      <td>positive</td>\n",
       "      <td>-0.181</td>\n",
       "    </tr>\n",
       "  </tbody>\n",
       "</table>\n",
       "</div>"
      ],
      "text/plain": [
       "                                                name   brand  \\\n",
       "0  All-New Fire HD 8 Tablet, 8\" HD Display, Wi-Fi...  Amazon   \n",
       "1        Amazon - Echo Plus w/ Built-In Hub - Silver  Amazon   \n",
       "\n",
       "                                          categories     primaryCategories  \\\n",
       "0  Electronics,iPad & Tablets,All Tablets,Fire Ta...           Electronics   \n",
       "1  Amazon Echo,Smart Home,Networking,Home & Tools...  Electronics,Hardware   \n",
       "\n",
       "               reviews_date  \\\n",
       "0  2016-12-26T00:00:00.000Z   \n",
       "1  2018-01-17T00:00:00.000Z   \n",
       "\n",
       "                                        reviews_text  \\\n",
       "0  [Purchased, on, Black, FridayPros, -, Great, P...   \n",
       "1  [I, purchased, two, Amazon, in, Echo, Plus, an...   \n",
       "\n",
       "              reviews_title sentiment  compound  \n",
       "0           Powerful tablet  positive    -0.280  \n",
       "1  Amazon Echo Plus AWESOME  positive    -0.181  "
      ]
     },
     "execution_count": 20,
     "metadata": {},
     "output_type": "execute_result"
    }
   ],
   "source": [
    "df1.head(2)"
   ]
  },
  {
   "cell_type": "code",
   "execution_count": 63,
   "id": "e8e7da4c",
   "metadata": {},
   "outputs": [],
   "source": [
    "# Export the cleaned dataset to a new CSV file named 'ecommerce.csv'. use index = False.\n",
    "df1.to_csv('ecommerce.csv', index = False)"
   ]
  },
  {
   "cell_type": "code",
   "execution_count": 53,
   "id": "eae2dc70",
   "metadata": {},
   "outputs": [],
   "source": [
    "cnn = sqlite3.connect('jupyter_sql_tutorial.db')"
   ]
  },
  {
   "cell_type": "code",
   "execution_count": null,
   "id": "b76c0966",
   "metadata": {},
   "outputs": [],
   "source": [
    "#load the prepared dataset into sqlite database\n",
    "df1.to_sql('ecommerce', cnn)"
   ]
  },
  {
   "cell_type": "code",
   "execution_count": 55,
   "id": "9d4994af",
   "metadata": {},
   "outputs": [
    {
     "name": "stdout",
     "output_type": "stream",
     "text": [
      "The sql extension is already loaded. To reload it, use:\n",
      "  %reload_ext sql\n"
     ]
    }
   ],
   "source": [
    "%load_ext sql"
   ]
  },
  {
   "cell_type": "code",
   "execution_count": 42,
   "id": "dbd2a781",
   "metadata": {},
   "outputs": [],
   "source": [
    "%sql sqlite:///jupyter_sql_tutorial.db"
   ]
  },
  {
   "cell_type": "code",
   "execution_count": 105,
   "id": "407e7096",
   "metadata": {},
   "outputs": [
    {
     "name": "stdout",
     "output_type": "stream",
     "text": [
      " * sqlite:///jupyter_sql_tutorial.db\n",
      "Done.\n"
     ]
    },
    {
     "data": {
      "text/html": [
       "<table>\n",
       "    <thead>\n",
       "        <tr>\n",
       "            <th>index</th>\n",
       "            <th>name</th>\n",
       "            <th>brand</th>\n",
       "            <th>categories</th>\n",
       "            <th>primaryCategories</th>\n",
       "            <th>reviews_date</th>\n",
       "            <th>reviews_text</th>\n",
       "            <th>reviews_title</th>\n",
       "            <th>sentiment</th>\n",
       "        </tr>\n",
       "    </thead>\n",
       "    <tbody>\n",
       "        <tr>\n",
       "            <td>0</td>\n",
       "            <td>All-New Fire HD 8 Tablet, 8&quot; HD Display, Wi-Fi, 16 GB - Includes Special Offers, Magenta</td>\n",
       "            <td>Amazon</td>\n",
       "            <td>Electronics,iPad &amp; Tablets,All Tablets,Fire Tablets,Tablets,Computers &amp; Tablets</td>\n",
       "            <td>Electronics</td>\n",
       "            <td>2016-12-26T00:00:00.000Z</td>\n",
       "            <td>[&#x27;purchased&#x27;, &#x27;on&#x27;, &#x27;black&#x27;, &#x27;fridaypros&#x27;, &#x27;great&#x27;, &#x27;price&#x27;, &#x27;even&#x27;, &#x27;off&#x27;, &#x27;sale&#x27;, &#x27;very&#x27;, &#x27;powerful&#x27;, &#x27;and&#x27;, &#x27;fast&#x27;, &#x27;with&#x27;, &#x27;quad&#x27;, &#x27;core&#x27;, &#x27;processors&#x27;, &#x27;amazing&#x27;, &#x27;soundwell&#x27;, &#x27;builtcons&#x27;, &#x27;amazon&#x27;, &#x27;ads&#x27;, &#x27;amazon&#x27;, &#x27;need&#x27;, &#x27;this&#x27;, &#x27;to&#x27;, &#x27;subsidize&#x27;, &#x27;the&#x27;, &#x27;tablet&#x27;, &#x27;and&#x27;, &#x27;will&#x27;, &#x27;remove&#x27;, &#x27;the&#x27;, &#x27;adds&#x27;, &#x27;if&#x27;, &#x27;you&#x27;, &#x27;pay&#x27;, &#x27;them&#x27;, &#x27;inability&#x27;, &#x27;to&#x27;, &#x27;access&#x27;, &#x27;other&#x27;, &#x27;apps&#x27;, &#x27;except&#x27;, &#x27;the&#x27;, &#x27;ones&#x27;, &#x27;from&#x27;, &#x27;amazon&#x27;, &#x27;there&#x27;, &#x27;is&#x27;, &#x27;a&#x27;, &#x27;way&#x27;, &#x27;which&#x27;, &#x27;i&#x27;, &#x27;was&#x27;, &#x27;able&#x27;, &#x27;to&#x27;, &#x27;accomplish&#x27;, &#x27;to&#x27;, &#x27;add&#x27;, &#x27;the&#x27;, &#x27;google&#x27;, &#x27;play&#x27;, &#x27;storenet&#x27;, &#x27;this&#x27;, &#x27;is&#x27;, &#x27;a&#x27;, &#x27;great&#x27;, &#x27;tablet&#x27;, &#x27;for&#x27;, &#x27;the&#x27;, &#x27;money&#x27;]</td>\n",
       "            <td>Powerful tablet</td>\n",
       "            <td>positive</td>\n",
       "        </tr>\n",
       "    </tbody>\n",
       "</table>"
      ],
      "text/plain": [
       "[(0, 'All-New Fire HD 8 Tablet, 8\" HD Display, Wi-Fi, 16 GB - Includes Special Offers, Magenta', 'Amazon', 'Electronics,iPad & Tablets,All Tablets,Fire Tablets,Tablets,Computers & Tablets', 'Electronics', '2016-12-26T00:00:00.000Z', \"['purchased', 'on', 'black', 'fridaypros', 'great', 'price', 'even', 'off', 'sale', 'very', 'powerful', 'and', 'fast', 'with', 'quad', 'core', 'proce ... (318 characters truncated) ... i', 'was', 'able', 'to', 'accomplish', 'to', 'add', 'the', 'google', 'play', 'storenet', 'this', 'is', 'a', 'great', 'tablet', 'for', 'the', 'money']\", 'Powerful tablet', 'positive')]"
      ]
     },
     "execution_count": 105,
     "metadata": {},
     "output_type": "execute_result"
    }
   ],
   "source": [
    "%%sql\n",
    "\n",
    "#check if all columns are correctly loaded\n",
    "SELECT *\n",
    "FROM ecommerce\n",
    "LIMIT 1;"
   ]
  },
  {
   "cell_type": "markdown",
   "id": "7ede007d",
   "metadata": {},
   "source": [
    "### TASK 1: How many values are there in the given dataset"
   ]
  },
  {
   "cell_type": "code",
   "execution_count": 69,
   "id": "58866dca",
   "metadata": {},
   "outputs": [
    {
     "name": "stdout",
     "output_type": "stream",
     "text": [
      " * sqlite:///jupyter_sql_tutorial.db\n",
      "Done.\n"
     ]
    },
    {
     "data": {
      "text/html": [
       "<table>\n",
       "    <thead>\n",
       "        <tr>\n",
       "            <th>total_values</th>\n",
       "        </tr>\n",
       "    </thead>\n",
       "    <tbody>\n",
       "        <tr>\n",
       "            <td>3962</td>\n",
       "        </tr>\n",
       "    </tbody>\n",
       "</table>"
      ],
      "text/plain": [
       "[(3962,)]"
      ]
     },
     "execution_count": 69,
     "metadata": {},
     "output_type": "execute_result"
    }
   ],
   "source": [
    "%%sql\n",
    "\n",
    "SELECT COUNT(*) as total_values\n",
    "FROM ecommerce"
   ]
  },
  {
   "cell_type": "markdown",
   "id": "09806f53",
   "metadata": {},
   "source": [
    "### TASK 2: Find out the unique brands in the given dataset"
   ]
  },
  {
   "cell_type": "code",
   "execution_count": 72,
   "id": "3739432e",
   "metadata": {},
   "outputs": [
    {
     "name": "stdout",
     "output_type": "stream",
     "text": [
      " * sqlite:///jupyter_sql_tutorial.db\n",
      "Done.\n"
     ]
    },
    {
     "data": {
      "text/html": [
       "<table>\n",
       "    <thead>\n",
       "        <tr>\n",
       "            <th>unique_brands</th>\n",
       "        </tr>\n",
       "    </thead>\n",
       "    <tbody>\n",
       "        <tr>\n",
       "            <td>Amazon</td>\n",
       "        </tr>\n",
       "        <tr>\n",
       "            <td>Flipkart</td>\n",
       "        </tr>\n",
       "    </tbody>\n",
       "</table>"
      ],
      "text/plain": [
       "[('Amazon',), ('Flipkart',)]"
      ]
     },
     "execution_count": 72,
     "metadata": {},
     "output_type": "execute_result"
    }
   ],
   "source": [
    "%%sql\n",
    "\n",
    "SELECT DISTINCT(brand) as unique_brands\n",
    "FROM ecommerce"
   ]
  },
  {
   "cell_type": "markdown",
   "id": "5e2df9fa",
   "metadata": {},
   "source": [
    "### TASK 3: Retrieve all records from the 'ecommerce' table where the brand is 'Amazon'."
   ]
  },
  {
   "cell_type": "code",
   "execution_count": 73,
   "id": "0281bc49",
   "metadata": {},
   "outputs": [
    {
     "name": "stdout",
     "output_type": "stream",
     "text": [
      " * sqlite:///jupyter_sql_tutorial.db\n",
      "Done.\n"
     ]
    },
    {
     "data": {
      "text/html": [
       "<table>\n",
       "    <thead>\n",
       "        <tr>\n",
       "            <th>total_records_from_amazon</th>\n",
       "        </tr>\n",
       "    </thead>\n",
       "    <tbody>\n",
       "        <tr>\n",
       "            <td>2476</td>\n",
       "        </tr>\n",
       "    </tbody>\n",
       "</table>"
      ],
      "text/plain": [
       "[(2476,)]"
      ]
     },
     "execution_count": 73,
     "metadata": {},
     "output_type": "execute_result"
    }
   ],
   "source": [
    "%%sql\n",
    "\n",
    "SELECT count(*) as total_records_from_amazon\n",
    "FROM ecommerce\n",
    "WHERE brand = 'Amazon'"
   ]
  },
  {
   "cell_type": "markdown",
   "id": "1a4689eb",
   "metadata": {},
   "source": [
    "### TASK 4: Retrieve all records from the 'ecommerce' table where the product reviews contain the word 'good' in their text."
   ]
  },
  {
   "cell_type": "code",
   "execution_count": 77,
   "id": "2ffc30cc",
   "metadata": {},
   "outputs": [
    {
     "name": "stdout",
     "output_type": "stream",
     "text": [
      " * sqlite:///jupyter_sql_tutorial.db\n",
      "Done.\n"
     ]
    },
    {
     "data": {
      "text/html": [
       "<table>\n",
       "    <thead>\n",
       "        <tr>\n",
       "            <th>total_records_with_good_in_their_review_text</th>\n",
       "        </tr>\n",
       "    </thead>\n",
       "    <tbody>\n",
       "        <tr>\n",
       "            <td>481</td>\n",
       "        </tr>\n",
       "    </tbody>\n",
       "</table>"
      ],
      "text/plain": [
       "[(481,)]"
      ]
     },
     "execution_count": 77,
     "metadata": {},
     "output_type": "execute_result"
    }
   ],
   "source": [
    "%%sql\n",
    "\n",
    "SELECT count(*) as total_records_with_good_in_their_review_text\n",
    "FROM ecommerce\n",
    "WHERE ecommerce.reviews_text LIKE '%good%'"
   ]
  },
  {
   "cell_type": "markdown",
   "id": "24f22280",
   "metadata": {},
   "source": [
    "### TASK 5: Provide a list of all products and their corresponding details from the 'ecommerce' table that belong to the 'Electronics' category."
   ]
  },
  {
   "cell_type": "code",
   "execution_count": 79,
   "id": "fe1f75be",
   "metadata": {},
   "outputs": [
    {
     "name": "stdout",
     "output_type": "stream",
     "text": [
      " * sqlite:///jupyter_sql_tutorial.db\n",
      "Done.\n"
     ]
    },
    {
     "data": {
      "text/html": [
       "<table>\n",
       "    <thead>\n",
       "        <tr>\n",
       "            <th>total_products_from_electronics</th>\n",
       "        </tr>\n",
       "    </thead>\n",
       "    <tbody>\n",
       "        <tr>\n",
       "            <td>2436</td>\n",
       "        </tr>\n",
       "    </tbody>\n",
       "</table>"
      ],
      "text/plain": [
       "[(2436,)]"
      ]
     },
     "execution_count": 79,
     "metadata": {},
     "output_type": "execute_result"
    }
   ],
   "source": [
    "%%sql\n",
    "\n",
    "SELECT count(*) as total_products_from_electronics\n",
    "FROM ecommerce\n",
    "WHERE categories LIKE '%Electronics%'"
   ]
  },
  {
   "cell_type": "markdown",
   "id": "82ba97c5",
   "metadata": {},
   "source": [
    "### TASK 6: Retrieve all records from the 'ecommerce' table where the products are categorized under 'Electronics' only as their primary category and the brand is 'Flipkart'."
   ]
  },
  {
   "cell_type": "code",
   "execution_count": 81,
   "id": "357e813f",
   "metadata": {},
   "outputs": [
    {
     "name": "stdout",
     "output_type": "stream",
     "text": [
      " * sqlite:///jupyter_sql_tutorial.db\n",
      "Done.\n"
     ]
    },
    {
     "data": {
      "text/html": [
       "<table>\n",
       "    <thead>\n",
       "        <tr>\n",
       "            <th>total</th>\n",
       "        </tr>\n",
       "    </thead>\n",
       "    <tbody>\n",
       "        <tr>\n",
       "            <td>943</td>\n",
       "        </tr>\n",
       "    </tbody>\n",
       "</table>"
      ],
      "text/plain": [
       "[(943,)]"
      ]
     },
     "execution_count": 81,
     "metadata": {},
     "output_type": "execute_result"
    }
   ],
   "source": [
    "%%sql\n",
    "\n",
    "SELECT count(*) as total\n",
    "FROM ecommerce\n",
    "WHERE primaryCategories LIKE 'Electronics' AND brand LIKE 'Flipkart'"
   ]
  },
  {
   "cell_type": "markdown",
   "id": "b595f345",
   "metadata": {},
   "source": [
    "### TASK 7: Provide a summary of the number of positive and negative sentiments for each primary category in the 'ecommerce' table."
   ]
  },
  {
   "cell_type": "code",
   "execution_count": 85,
   "id": "09ec7679",
   "metadata": {},
   "outputs": [
    {
     "name": "stdout",
     "output_type": "stream",
     "text": [
      " * sqlite:///jupyter_sql_tutorial.db\n",
      "Done.\n"
     ]
    },
    {
     "data": {
      "text/html": [
       "<table>\n",
       "    <thead>\n",
       "        <tr>\n",
       "            <th>primaryCategories</th>\n",
       "            <th>positive_count</th>\n",
       "            <th>negative_count</th>\n",
       "        </tr>\n",
       "    </thead>\n",
       "    <tbody>\n",
       "        <tr>\n",
       "            <td>Electronics</td>\n",
       "            <td>2304</td>\n",
       "            <td>278</td>\n",
       "        </tr>\n",
       "        <tr>\n",
       "            <td>Electronics,Hardware</td>\n",
       "            <td>1064</td>\n",
       "            <td>86</td>\n",
       "        </tr>\n",
       "        <tr>\n",
       "            <td>Electronics,Media</td>\n",
       "            <td>17</td>\n",
       "            <td>0</td>\n",
       "        </tr>\n",
       "        <tr>\n",
       "            <td>Office Supplies,Electronics</td>\n",
       "            <td>188</td>\n",
       "            <td>25</td>\n",
       "        </tr>\n",
       "    </tbody>\n",
       "</table>"
      ],
      "text/plain": [
       "[('Electronics', 2304, 278),\n",
       " ('Electronics,Hardware', 1064, 86),\n",
       " ('Electronics,Media', 17, 0),\n",
       " ('Office Supplies,Electronics', 188, 25)]"
      ]
     },
     "execution_count": 85,
     "metadata": {},
     "output_type": "execute_result"
    }
   ],
   "source": [
    "%%sql\n",
    "\n",
    "SELECT x.primaryCategories, IFNULL(x.positive_count,0) as positive_count, IFNULL(y.negative_count, 0) as negative_count\n",
    "FROM (SELECT primaryCategories, COUNT(sentiment) as sentiment_count\n",
    "      FROM ecommerce\n",
    "      WHERE sentiment = 'sentiment'\n",
    "      GROUP BY 1) as z\n",
    "\n",
    "LEFT OUTER JOIN (SELECT primaryCategories, COUNT(sentiment) as positive_count\n",
    "      FROM ecommerce\n",
    "      WHERE sentiment = 'positive'\n",
    "      GROUP BY 1) as x\n",
    "      \n",
    "LEFT OUTER JOIN (SELECT primaryCategories, COUNT(sentiment) as negative_count\n",
    "      FROM ecommerce\n",
    "      WHERE sentiment = 'negative'\n",
    "      GROUP BY 1) as y\n",
    "      \n",
    "ON y.primaryCategories = z.primaryCategories\n",
    "\n",
    "UNION \n",
    "\n",
    "SELECT x.primaryCategories, IFNULL(x.positive_count,0) as positive_count, IFNULL(y.negative_count, 0) as negative_count\n",
    "FROM (SELECT primaryCategories, COUNT(sentiment) as positive_count\n",
    "      FROM ecommerce\n",
    "      WHERE sentiment = 'positive'\n",
    "      GROUP BY 1) as x\n",
    "      \n",
    "LEFT OUTER JOIN (SELECT primaryCategories, COUNT(sentiment) as negative_count\n",
    "      FROM ecommerce\n",
    "      WHERE sentiment = 'negative'\n",
    "      GROUP BY 1) as y\n",
    "      \n",
    "ON x.primaryCategories = y.primaryCategories\n",
    "\n",
    "LEFT OUTER JOIN (SELECT primaryCategories, COUNT(sentiment) as sentiment_count\n",
    "      FROM ecommerce\n",
    "      WHERE sentiment = 'sentiment'\n",
    "      GROUP BY 1) as z\n",
    "      \n",
    "ON y.primaryCategories = z.primaryCategories"
   ]
  },
  {
   "cell_type": "markdown",
   "id": "39f4d7d2",
   "metadata": {},
   "source": [
    "### TASK 8: Retrieve all records from the 'ecommerce' table where the sentiment in the product reviews is classified as 'positive'."
   ]
  },
  {
   "cell_type": "code",
   "execution_count": 87,
   "id": "7a350356",
   "metadata": {},
   "outputs": [
    {
     "name": "stdout",
     "output_type": "stream",
     "text": [
      " * sqlite:///jupyter_sql_tutorial.db\n",
      "Done.\n"
     ]
    },
    {
     "data": {
      "text/html": [
       "<table>\n",
       "    <thead>\n",
       "        <tr>\n",
       "            <th>total_products_with_positive_review</th>\n",
       "        </tr>\n",
       "    </thead>\n",
       "    <tbody>\n",
       "        <tr>\n",
       "            <td>3573</td>\n",
       "        </tr>\n",
       "    </tbody>\n",
       "</table>"
      ],
      "text/plain": [
       "[(3573,)]"
      ]
     },
     "execution_count": 87,
     "metadata": {},
     "output_type": "execute_result"
    }
   ],
   "source": [
    "%%sql\n",
    "\n",
    "SELECT count(*) as total_products_with_positive_review\n",
    "FROM ecommerce\n",
    "WHERE sentiment = 'positive'"
   ]
  },
  {
   "cell_type": "markdown",
   "id": "30d5081c",
   "metadata": {},
   "source": [
    "### TASK 9: Provide a summary report for each brand in the 'ecommerce' table, including the total number of positive and negative sentiments in product reviews, the total number of reviews, and the percentage of positive and negative sentiments for each brand."
   ]
  },
  {
   "cell_type": "code",
   "execution_count": 100,
   "id": "81cd81a4",
   "metadata": {},
   "outputs": [
    {
     "name": "stdout",
     "output_type": "stream",
     "text": [
      " * sqlite:///jupyter_sql_tutorial.db\n",
      "Done.\n"
     ]
    },
    {
     "data": {
      "text/html": [
       "<table>\n",
       "    <thead>\n",
       "        <tr>\n",
       "            <th>brand</th>\n",
       "            <th>total_pos_count</th>\n",
       "            <th>total_neg_count</th>\n",
       "            <th>review_no</th>\n",
       "            <th>pos_percentage</th>\n",
       "            <th>neg_percentage</th>\n",
       "        </tr>\n",
       "    </thead>\n",
       "    <tbody>\n",
       "        <tr>\n",
       "            <td>Amazon</td>\n",
       "            <td>2227</td>\n",
       "            <td>249</td>\n",
       "            <td>2476</td>\n",
       "            <td>89.94</td>\n",
       "            <td>10.06</td>\n",
       "        </tr>\n",
       "        <tr>\n",
       "            <td>Flipkart</td>\n",
       "            <td>1346</td>\n",
       "            <td>140</td>\n",
       "            <td>1486</td>\n",
       "            <td>90.58</td>\n",
       "            <td>9.42</td>\n",
       "        </tr>\n",
       "    </tbody>\n",
       "</table>"
      ],
      "text/plain": [
       "[('Amazon', 2227, 249, 2476, 89.94, 10.06),\n",
       " ('Flipkart', 1346, 140, 1486, 90.58, 9.42)]"
      ]
     },
     "execution_count": 100,
     "metadata": {},
     "output_type": "execute_result"
    }
   ],
   "source": [
    "%%sql\n",
    "\n",
    "WITH T1 AS (\n",
    "    SELECT \n",
    "        brand, \n",
    "        SUM(sentiment='positive') as total_pos_count, \n",
    "        SUM(sentiment='negative') as total_neg_count,\n",
    "        SUM(sentiment='sentiment') as total_sent_count,\n",
    "        COUNT(sentiment) as review_no\n",
    "    FROM ecommerce\n",
    "    GROUP BY 1)\n",
    "    \n",
    "SELECT  IFNULL(T1.brand,'brand') as brand, \n",
    "        IFNULL(T1.total_pos_count,0) as total_pos_count, \n",
    "        IFNULL(T1.total_neg_count,0) as total_neg_count, \n",
    "        IFNULL(T1.review_no,0) as review_no,\n",
    "        ROUND(((total_pos_count * 1.0) / review_no *100),2) as pos_percentage,\n",
    "        ROUND(((total_neg_count * 1.0) / review_no *100),2) as neg_percentage\n",
    "  \n",
    "FROM T1"
   ]
  },
  {
   "cell_type": "markdown",
   "id": "51ea0222",
   "metadata": {},
   "source": [
    "### TASK 10: Retrieve a count of products for each primary category in the 'ecommerce' table"
   ]
  },
  {
   "cell_type": "code",
   "execution_count": 102,
   "id": "1e5f127b",
   "metadata": {},
   "outputs": [
    {
     "name": "stdout",
     "output_type": "stream",
     "text": [
      " * sqlite:///jupyter_sql_tutorial.db\n",
      "Done.\n"
     ]
    },
    {
     "data": {
      "text/html": [
       "<table>\n",
       "    <thead>\n",
       "        <tr>\n",
       "            <th>primaryCategories</th>\n",
       "            <th>total_product</th>\n",
       "        </tr>\n",
       "    </thead>\n",
       "    <tbody>\n",
       "        <tr>\n",
       "            <td>Electronics</td>\n",
       "            <td>2582</td>\n",
       "        </tr>\n",
       "        <tr>\n",
       "            <td>Electronics,Hardware</td>\n",
       "            <td>1150</td>\n",
       "        </tr>\n",
       "        <tr>\n",
       "            <td>Electronics,Media</td>\n",
       "            <td>17</td>\n",
       "        </tr>\n",
       "        <tr>\n",
       "            <td>Office Supplies,Electronics</td>\n",
       "            <td>213</td>\n",
       "        </tr>\n",
       "    </tbody>\n",
       "</table>"
      ],
      "text/plain": [
       "[('Electronics', 2582),\n",
       " ('Electronics,Hardware', 1150),\n",
       " ('Electronics,Media', 17),\n",
       " ('Office Supplies,Electronics', 213)]"
      ]
     },
     "execution_count": 102,
     "metadata": {},
     "output_type": "execute_result"
    }
   ],
   "source": [
    "%%sql\n",
    "\n",
    "SELECT primaryCategories, COUNT(*) as total_product\n",
    "FROM ecommerce\n",
    "GROUP BY 1"
   ]
  },
  {
   "cell_type": "markdown",
   "id": "3bfccd66",
   "metadata": {},
   "source": [
    "### TASK 11: Retrieve all records from the 'ecommerce' table where the product name contains the word 'Tablet' as a substring"
   ]
  },
  {
   "cell_type": "code",
   "execution_count": 103,
   "id": "a90f0992",
   "metadata": {},
   "outputs": [
    {
     "name": "stdout",
     "output_type": "stream",
     "text": [
      " * sqlite:///jupyter_sql_tutorial.db\n",
      "Done.\n"
     ]
    },
    {
     "data": {
      "text/html": [
       "<table>\n",
       "    <thead>\n",
       "        <tr>\n",
       "            <th>total_products</th>\n",
       "        </tr>\n",
       "    </thead>\n",
       "    <tbody>\n",
       "        <tr>\n",
       "            <td>2301</td>\n",
       "        </tr>\n",
       "    </tbody>\n",
       "</table>"
      ],
      "text/plain": [
       "[(2301,)]"
      ]
     },
     "execution_count": 103,
     "metadata": {},
     "output_type": "execute_result"
    }
   ],
   "source": [
    "%%sql\n",
    "\n",
    "SELECT count(*) as total_products\n",
    "FROm ecommerce\n",
    "WHERE ecommerce.name LIKE 'Tablet%' OR ecommerce.name LIKE '%Tablet%' OR ecommerce.name LIKE '%Tablet'"
   ]
  },
  {
   "cell_type": "markdown",
   "id": "56ab4449",
   "metadata": {},
   "source": [
    "### TASK 12: Count the number of product reviews in the 'ecommerce' table where the text contains the word 'Alexa' as a substring."
   ]
  },
  {
   "cell_type": "code",
   "execution_count": 104,
   "id": "ad347430",
   "metadata": {},
   "outputs": [
    {
     "name": "stdout",
     "output_type": "stream",
     "text": [
      " * sqlite:///jupyter_sql_tutorial.db\n",
      "Done.\n"
     ]
    },
    {
     "data": {
      "text/html": [
       "<table>\n",
       "    <thead>\n",
       "        <tr>\n",
       "            <th>total_product</th>\n",
       "        </tr>\n",
       "    </thead>\n",
       "    <tbody>\n",
       "        <tr>\n",
       "            <td>339</td>\n",
       "        </tr>\n",
       "    </tbody>\n",
       "</table>"
      ],
      "text/plain": [
       "[(339,)]"
      ]
     },
     "execution_count": 104,
     "metadata": {},
     "output_type": "execute_result"
    }
   ],
   "source": [
    "%%sql\n",
    "\n",
    "SELECT COUNT(*) as total_product\n",
    "FROm ecommerce\n",
    "WHERE reviews_text LIKE 'Alexa%' OR reviews_text LIKE '%Alexa%' OR reviews_text LIKE '%Alexa'"
   ]
  }
 ],
 "metadata": {
  "kernelspec": {
   "display_name": "Python 3 (ipykernel)",
   "language": "python",
   "name": "python3"
  },
  "language_info": {
   "codemirror_mode": {
    "name": "ipython",
    "version": 3
   },
   "file_extension": ".py",
   "mimetype": "text/x-python",
   "name": "python",
   "nbconvert_exporter": "python",
   "pygments_lexer": "ipython3",
   "version": "3.11.4"
  }
 },
 "nbformat": 4,
 "nbformat_minor": 5
}
